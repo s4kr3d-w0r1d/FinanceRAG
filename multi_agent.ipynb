{
 "cells": [
  {
   "cell_type": "markdown",
   "id": "0274b2da",
   "metadata": {},
   "source": [
    "1. Imports & Config"
   ]
  },
  {
   "cell_type": "code",
   "execution_count": null,
   "id": "896ab6bc",
   "metadata": {},
   "outputs": [],
   "source": [
    "import os, re, json\n",
    "from pathlib import Path\n",
    "from typing import Dict, Any, Optional, List\n",
    "import faiss\n",
    "import pandas as pd\n",
    "from groq import Groq\n",
    "from transformers import pipeline\n",
    "# Reuse functions from Task-1 retriever\n",
    "from retriever import jina_text_embed, parse_page\n",
    "# Paths\n",
    "FAISS_INDEX_PATH = \"data/faiss.idx\"\n",
    "META_PATH = \"data/meta.json\"\n",
    "MEMORY_PATH = \"data/memory.json\"\n",
    "TOP_K = 5\n",
    "Path(\"data\").mkdir(exist_ok=True)\n",
    "if not Path(MEMORY_PATH).exists():\n",
    "    Path(MEMORY_PATH).write_text(\"[]\")\n",
    "# Groq client\n",
    "client = Groq(api_key=os.getenv(\"GROQ_API_KEY\"))\n"
   ]
  },
  {
   "cell_type": "markdown",
   "id": "d246b0b7",
   "metadata": {},
   "source": [
    "2. Retriever Agent"
   ]
  },
  {
   "cell_type": "code",
   "execution_count": null,
   "id": "c22cb7ae",
   "metadata": {},
   "outputs": [],
   "source": [
    "def read_meta(meta_path=META_PATH):\n",
    "    with open(meta_path, \"r\") as f: return json.load(f)\n",
    "\n",
    "def load_faiss(index_path=FAISS_INDEX_PATH):\n",
    "    return faiss.read_index(index_path)\n",
    "\n",
    "class RetrieverAgent:\n",
    "    def __init__(self, index_path=FAISS_INDEX_PATH, meta_path=META_PATH, k=TOP_K):\n",
    "        self.index = load_faiss(index_path)\n",
    "        self.meta = read_meta(meta_path)\n",
    "        self.k = k\n",
    "\n",
    "    def act(self, context: Dict[str,Any]) -> Dict[str,Any]:\n",
    "        query = context[\"query\"]\n",
    "        q_emb = jina_text_embed(query)\n",
    "        faiss.normalize_L2(q_emb)\n",
    "        D, I = self.index.search(q_emb, self.k)\n",
    "        hits = []\n",
    "        texts = []\n",
    "        for score, idx in zip(D[0], I[0]):\n",
    "            if idx == -1: continue\n",
    "            m = self.meta[idx]\n",
    "            hits.append({\"score\": float(score), \"meta\": m})\n",
    "            texts.append(parse_page(m[\"path\"])[\"text\"][:1000])\n",
    "        return {\n",
    "            \"agent\":\"RetrieverAgent\",\n",
    "            \"tool\":\"faiss_search\",\n",
    "            \"input\":{\"query\":query},\n",
    "            \"output\":{\"hits\":hits,\"retrieved_text\":\" \".join(texts)}\n",
    "        }\n"
   ]
  },
  {
   "cell_type": "markdown",
   "id": "c389a13e",
   "metadata": {},
   "source": [
    "3. Table Agent"
   ]
  },
  {
   "cell_type": "code",
   "execution_count": null,
   "id": "b559e703",
   "metadata": {},
   "outputs": [],
   "source": [
    "class TableAgent:\n",
    "    NUM_RE = re.compile(r\"\\d+[\\d,\\.]*\")\n",
    "\n",
    "    def act(self, context: Dict[str,Any]) -> Dict[str,Any]:\n",
    "        text = context.get(\"retrieved_text\",\"\")\n",
    "        blocks = [b for b in re.split(r\"\\n\\s*\\n\", text) if len(self.NUM_RE.findall(b)) >= 3]\n",
    "        tables = []\n",
    "        for blk in blocks:\n",
    "            lines = [ln.strip() for ln in blk.splitlines() if ln.strip()]\n",
    "            if not lines: continue\n",
    "            if all(len(re.split(r\"\\s{2,}\", ln))>1 for ln in lines[:3]):\n",
    "                rows = [re.split(r\"\\s{2,}\", ln) for ln in lines]\n",
    "                df = pd.DataFrame(rows[1:], columns=rows[0])\n",
    "                for c in df.columns:\n",
    "                    df[c] = df[c].astype(str).str.replace(\",\",\"\").str.replace(\"%\",\"\")\n",
    "                    df[c] = pd.to_numeric(df[c], errors=\"ignore\")\n",
    "                tables.append(df)\n",
    "        return {\n",
    "            \"agent\":\"TableAgent\",\n",
    "            \"tool\":\"parse_tables\",\n",
    "            \"input\":{\"text_snippet\":text[:200]},\n",
    "            \"output\":{\"n_tables\":len(tables),\"tables\":[t.to_dict() for t in tables]}\n",
    "        }\n"
   ]
  },
  {
   "cell_type": "markdown",
   "id": "26ad4eeb",
   "metadata": {},
   "source": [
    "4. Math Agent"
   ]
  },
  {
   "cell_type": "code",
   "execution_count": null,
   "id": "fac6ed00",
   "metadata": {},
   "outputs": [],
   "source": [
    "class MathAgent:\n",
    "    def act(self, context: Dict[str,Any]) -> Dict[str,Any]:\n",
    "        tables = context.get(\"tables\",[])\n",
    "        results = []\n",
    "        for t in tables:\n",
    "            df = pd.DataFrame(t)\n",
    "            try:\n",
    "                # find year column\n",
    "                year_col = None\n",
    "                for c in df.columns:\n",
    "                    if df[c].astype(str).str.match(r\"20\\d{2}\").any():\n",
    "                        year_col = c\n",
    "                        break\n",
    "                val_col = next((c for c in df.columns if c!=year_col), None)\n",
    "                yoy=None\n",
    "                if year_col and val_col:\n",
    "                    df2 = df[[year_col,val_col]].dropna()\n",
    "                    df2[year_col] = df2[year_col].astype(int)\n",
    "                    df2[val_col] = pd.to_numeric(df2[val_col], errors=\"coerce\")\n",
    "                    mapping = dict(zip(df2[year_col], df2[val_col]))\n",
    "                    years = sorted(mapping.keys())\n",
    "                    if len(years)>=2 and mapping[years[-2]]!=0:\n",
    "                        yoy=(mapping[years[-1]]-mapping[years[-2]])/mapping[years[-2]]\n",
    "                results.append({\"ok\":yoy is not None,\"yoy\":yoy})\n",
    "            except Exception as e:\n",
    "                results.append({\"ok\":False,\"error\":str(e)})\n",
    "        return {\n",
    "            \"agent\":\"MathAgent\",\n",
    "            \"tool\":\"compute_yoy\",\n",
    "            \"input\":{\"n_tables\":len(tables)},\n",
    "            \"output\":{\"numeric_results\":results}\n",
    "        }\n"
   ]
  },
  {
   "cell_type": "markdown",
   "id": "40b609b6",
   "metadata": {},
   "source": [
    "5. Summarizer Agent (Groq)"
   ]
  },
  {
   "cell_type": "code",
   "execution_count": null,
   "id": "2e981e2c",
   "metadata": {},
   "outputs": [],
   "source": [
    "class SummarizerAgent:\n",
    "    def __init__(self, client, model=\"llama3-70b-8192\"):\n",
    "        self.client = client\n",
    "        self.model = model\n",
    "\n",
    "    def act(self, context: Dict[str,Any]) -> Dict[str,Any]:\n",
    "        q = context[\"query\"]\n",
    "        num = context.get(\"numeric_results\",{})\n",
    "        text = context.get(\"retrieved_text\",\"\")\n",
    "        prompt = f\"Context:\\n{text}\\n\\nNumeric: {json.dumps(num)}\\n\\nQuestion: {q}\\nAnswer concisely:\"\n",
    "        resp = self.client.chat.completions.create(\n",
    "            model=self.model,\n",
    "            messages=[{\"role\":\"user\",\"content\":prompt}],\n",
    "            temperature=0.2\n",
    "        )\n",
    "        ans = resp.choices[0].message.content\n",
    "        return {\n",
    "            \"agent\":\"SummarizerAgent\",\n",
    "            \"tool\":\"groq_llm\",\n",
    "            \"input\":prompt[:200],\n",
    "            \"output\":{\"final_answer\":ans}\n",
    "        }\n"
   ]
  },
  {
   "cell_type": "markdown",
   "id": "e775f012",
   "metadata": {},
   "source": [
    "6. Groq Supervisor (Dynamic)"
   ]
  },
  {
   "cell_type": "code",
   "execution_count": null,
   "id": "1e29f143",
   "metadata": {},
   "outputs": [],
   "source": [
    "class GroqSupervisor:\n",
    "    def __init__(self, client, model=\"mixtral-8x7b-32768\"):\n",
    "        self.client = client\n",
    "        self.model = model\n",
    "\n",
    "    def decide_next(self, query: str, context: Dict[str,Any]) -> str:\n",
    "        prompt = f\"\"\"\n",
    "        You are a supervisor of a financial QA system.\n",
    "        Agents available: RetrieverAgent, TableAgent, MathAgent, SummarizerAgent.\n",
    "        Query: {query}\n",
    "        Current context: {json.dumps(context, indent=2)}\n",
    "\n",
    "        Decide which agent should act next.\n",
    "        If final answer is ready, output 'STOP'.\n",
    "        Only return one of: RetrieverAgent, TableAgent, MathAgent, SummarizerAgent, STOP.\n",
    "        \"\"\"\n",
    "        resp = self.client.chat.completions.create(\n",
    "            model=self.model,\n",
    "            messages=[{\"role\":\"user\",\"content\":prompt}],\n",
    "            temperature=0.2\n",
    "        )\n",
    "        return resp.choices[0].message.content.strip()\n"
   ]
  },
  {
   "cell_type": "markdown",
   "id": "16b28a55",
   "metadata": {},
   "source": [
    "7. Dynamic Orchestrator"
   ]
  },
  {
   "cell_type": "code",
   "execution_count": null,
   "id": "a3ba2c77",
   "metadata": {},
   "outputs": [],
   "source": [
    "class DynamicOrchestrator:\n",
    "    def __init__(self, agents, supervisor, memory_path=MEMORY_PATH):\n",
    "        self.agents = agents\n",
    "        self.supervisor = supervisor\n",
    "        self.memory_path = memory_path\n",
    "\n",
    "    def log_memory(self, record):\n",
    "        mem = json.loads(Path(self.memory_path).read_text())\n",
    "        mem.append(record)\n",
    "        Path(self.memory_path).write_text(json.dumps(mem, indent=2))\n",
    "\n",
    "    def run(self, query: str) -> Dict[str,Any]:\n",
    "        trace, context = [], {\"query\": query}\n",
    "        agent_name = self.supervisor.decide_next(query, context)\n",
    "\n",
    "        while agent_name != \"STOP\":\n",
    "            step = self.agents[agent_name].act(context)\n",
    "            trace.append(step)\n",
    "            context.update(step[\"output\"])\n",
    "            agent_name = self.supervisor.decide_next(query, context)\n",
    "\n",
    "        result = {\"query\": query, \"trace\": trace, \"final_answer\": context.get(\"final_answer\",\"\")}\n",
    "        self.log_memory(result)\n",
    "        return result\n"
   ]
  },
  {
   "cell_type": "markdown",
   "id": "b077ad83",
   "metadata": {},
   "source": [
    "8. Initialize System"
   ]
  },
  {
   "cell_type": "code",
   "execution_count": null,
   "id": "75840e8c",
   "metadata": {},
   "outputs": [],
   "source": [
    "retriever_agent = RetrieverAgent()\n",
    "table_agent = TableAgent()\n",
    "math_agent = MathAgent()\n",
    "summ_agent = SummarizerAgent(client)\n",
    "\n",
    "agents = {\n",
    "    \"RetrieverAgent\": retriever_agent,\n",
    "    \"TableAgent\": table_agent,\n",
    "    \"MathAgent\": math_agent,\n",
    "    \"SummarizerAgent\": summ_agent\n",
    "}\n",
    "\n",
    "supervisor = GroqSupervisor(client)\n",
    "system = DynamicOrchestrator(agents, supervisor)\n"
   ]
  },
  {
   "cell_type": "markdown",
   "id": "02971e9f",
   "metadata": {},
   "source": [
    "9. Run Example Query & Save Trace"
   ]
  },
  {
   "cell_type": "code",
   "execution_count": null,
   "id": "8802ee6e",
   "metadata": {},
   "outputs": [],
   "source": [
    "query = \"Compare the YoY revenue growth and R&D spending between 2021 and 2022, and summarize the risks affecting future revenue.\"\n",
    "result = system.run(query)\n",
    "\n",
    "print(\"=== Final Answer ===\\n\", result[\"final_answer\"])\n",
    "Path(\"outputs\").mkdir(exist_ok=True)\n",
    "Path(\"outputs/query1.json\").write_text(json.dumps(result, indent=2))\n",
    "print(\"Trace saved to outputs/query1.json\")"
   ]
  }
 ],
 "metadata": {
  "language_info": {
   "name": "python"
  }
 },
 "nbformat": 4,
 "nbformat_minor": 5
}
